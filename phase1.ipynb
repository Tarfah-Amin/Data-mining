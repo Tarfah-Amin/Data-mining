{
  "metadata": {
    "kernelspec": {
      "display_name": "Python (Pyodide)",
      "language": "python",
      "name": "python"
    },
    "language_info": {
      "codemirror_mode": {
        "name": "python",
        "version": 3
      },
      "file_extension": ".py",
      "mimetype": "text/x-python",
      "name": "python",
      "nbconvert_exporter": "python",
      "pygments_lexer": "ipython3",
      "version": "3.8"
    }
  },
  "nbformat_minor": 4,
  "nbformat": 4,
  "cells": [
    {
      "cell_type": "markdown",
      "source": "# Breast cancer stage detectionbreast cancer",
      "metadata": {}
    },
    {
      "cell_type": "markdown",
      "source": "## Goal:\nOur goal from this project is to create a modal that can identify breast cancer in its early stages by analyzing the measures of the cancer cells, categorizing each stage according to the diagnostic given, and comparing the measurements to begin treatment as soon as possible .",
      "metadata": {}
    },
    {
      "cell_type": "markdown",
      "source": "The source of our dataset coming from this link:\nhttps://www.kaggle.com/datasets/uciml/breast-cancer-wisconsin-data",
      "metadata": {}
    },
    {
      "cell_type": "markdown",
      "source": "## Motivations:\nWhat motivates us to choose a Breast cancer data set is the dangerous effects in the later stages that can affect the Lymphatic system and which may lead to death. We desire to distinguish between different stages of the disease as quickly as possible to save as many lives as we can.",
      "metadata": {}
    },
    {
      "cell_type": "markdown",
      "source": "## Information about dataset:\nIn our dataset, we provide a comprehensive description of attributes along with their respective types. The dataset comprises 32 columns, each representing distinct characteristics relevant to a particularzz context. For clarity, we specify the type of each attribute, ensuring a clear understanding of the data structure and facilitating efficient analysis:",
      "metadata": {}
    },
    {
      "cell_type": "markdown",
      "source": "note: \n* The descriptionis only provided for unclear or hard to understand attributes.\n* The mean, standard error and \"worst\" or largest (mean of the three\nlargest values) of the first 12 attributes were computed for each image,\nresulting the rest of 30 attributes.",
      "metadata": {}
    },
    {
      "cell_type": "markdown",
      "source": "|No|Name|Type|Description
|--|----|----|-----------
|1|ID number|Nominal and Integer|ID number that distingish diffrent sampels/data that have been taken from diffrent patiant
|2|Diagnosis|Nominal and Character|A class attribute that determinie the stage of the breast canser eaither M(malignant) or B(benign) 
|3|Radius_mean|Numeric and Float|Distances from center to points on the perimeter
|4|Texture_mean| Numeric and Float|
|5|Perimeter_mean|Numeric and Float|The distance around the nuclear border
|6|Area_mean|Numeric and Float|Size of tumor
|7|Smoothness_mean|Numeric and Float|
|8|Compactness_mean|Numeric and Float|Measures the similarity between the shape of a breast tumor and its fitting circle
|9|Concavity_mean|Numeric and Float|
|10|Concave points_mean|Numeric and Float|The number of indentations present on the nuclear border
|11|Symmetry_mean|Numeric and Float|
|12|Fractal_dimension_mean|Numeric and Float|Used to locate the micro calcifications in the mammogram
|13|Radius_se|Numeric and Float|
|14|Texture_se|Numeric and Float|
|15|Perimeter_se|Numeric and Float|
|16|Area_se|Numeric and Float|
|17|Smoothness_se|Numeric and Float|
|18|Compactness_se| Numeric and Float|
|19|Concavity_se|Numeric and Float|
|20|Concave points_se|Numeric and Float|
|21|Symmetry_se|Numeric and Float|
|22|Fractal_dimension_se|Numeric and Float|
|23|Radius_worst|Numeric and Float|
|24|Texture_worst|Numeric and Float|
|25|Perimeter_worst|Numeric and Float|
|26|Area_worst|Numeric and Float|
|27|Smoothness_worst|Numeric and Float|
|28|Compactness_worst|Numeric and Float|
|29|Concavity_worst|Numeric and Float|
|30|Concave points_worst|Numeric and Float|
|31|Symmetry_worst|Numeric and Float|
|32|Fractal_dimension_worst|Numeric and Float|

\n\n",
      "metadata": {}
    },
    {
      "cell_type": "code",
      "source": " import pandas as pd\ndataCancer = pd.read_csv('Dataset/cancer.csv')\n#print information by code\nprint(dataCancer.info)",
      "metadata": {
        "trusted": true
      },
      "outputs": [
        {
          "name": "stdout",
          "output_type": "stream",
          "text": [
            "<bound method DataFrame.info of            id diagnosis  radius_mean  texture_mean  perimeter_mean  area_mean  \\\n",
            "0      842302         M        17.99         10.38          122.80     1001.0   \n",
            "1      842517         M        20.57         17.77          132.90     1326.0   \n",
            "2    84300903         M        19.69         21.25          130.00     1203.0   \n",
            "3    84348301         M        11.42         20.38           77.58      386.1   \n",
            "4    84358402         M        20.29         14.34          135.10     1297.0   \n",
            "..        ...       ...          ...           ...             ...        ...   \n",
            "564    926424         M        21.56         22.39          142.00     1479.0   \n",
            "565    926682         M        20.13         28.25          131.20     1261.0   \n",
            "566    926954         M        16.60         28.08          108.30      858.1   \n",
            "567    927241         M        20.60         29.33          140.10     1265.0   \n",
            "568     92751         B         7.76         24.54           47.92      181.0   \n",
            "\n",
            "     smoothness_mean  compactness_mean  concavity_mean  concave points_mean  \\\n",
            "0            0.11840           0.27760         0.30010              0.14710   \n",
            "1            0.08474           0.07864         0.08690              0.07017   \n",
            "2            0.10960           0.15990         0.19740              0.12790   \n",
            "3            0.14250           0.28390         0.24140              0.10520   \n",
            "4            0.10030           0.13280         0.19800              0.10430   \n",
            "..               ...               ...             ...                  ...   \n",
            "564          0.11100           0.11590         0.24390              0.13890   \n",
            "565          0.09780           0.10340         0.14400              0.09791   \n",
            "566          0.08455           0.10230         0.09251              0.05302   \n",
            "567          0.11780           0.27700         0.35140              0.15200   \n",
            "568          0.05263           0.04362         0.00000              0.00000   \n",
            "\n",
            "     ...  texture_worst  perimeter_worst  area_worst  smoothness_worst  \\\n",
            "0    ...          17.33           184.60      2019.0           0.16220   \n",
            "1    ...          23.41           158.80      1956.0           0.12380   \n",
            "2    ...          25.53           152.50      1709.0           0.14440   \n",
            "3    ...          26.50            98.87       567.7           0.20980   \n",
            "4    ...          16.67           152.20      1575.0           0.13740   \n",
            "..   ...            ...              ...         ...               ...   \n",
            "564  ...          26.40           166.10      2027.0           0.14100   \n",
            "565  ...          38.25           155.00      1731.0           0.11660   \n",
            "566  ...          34.12           126.70      1124.0           0.11390   \n",
            "567  ...          39.42           184.60      1821.0           0.16500   \n",
            "568  ...          30.37            59.16       268.6           0.08996   \n",
            "\n",
            "     compactness_worst  concavity_worst  concave points_worst  symmetry_worst  \\\n",
            "0              0.66560           0.7119                0.2654          0.4601   \n",
            "1              0.18660           0.2416                0.1860          0.2750   \n",
            "2              0.42450           0.4504                0.2430          0.3613   \n",
            "3              0.86630           0.6869                0.2575          0.6638   \n",
            "4              0.20500           0.4000                0.1625          0.2364   \n",
            "..                 ...              ...                   ...             ...   \n",
            "564            0.21130           0.4107                0.2216          0.2060   \n",
            "565            0.19220           0.3215                0.1628          0.2572   \n",
            "566            0.30940           0.3403                0.1418          0.2218   \n",
            "567            0.86810           0.9387                0.2650          0.4087   \n",
            "568            0.06444           0.0000                0.0000          0.2871   \n",
            "\n",
            "     fractal_dimension_worst  Unnamed: 32  \n",
            "0                    0.11890          NaN  \n",
            "1                    0.08902          NaN  \n",
            "2                    0.08758          NaN  \n",
            "3                    0.17300          NaN  \n",
            "4                    0.07678          NaN  \n",
            "..                       ...          ...  \n",
            "564                  0.07115          NaN  \n",
            "565                  0.06637          NaN  \n",
            "566                  0.07820          NaN  \n",
            "567                  0.12400          NaN  \n",
            "568                  0.07039          NaN  \n",
            "\n",
            "[569 rows x 33 columns]>\n"
          ]
        }
      ],
      "execution_count": 5
    }
  ]
}
