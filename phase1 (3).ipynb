{
  "metadata": {
    "kernelspec": {
      "name": "python",
      "display_name": "Python (Pyodide)",
      "language": "python"
    },
    "language_info": {
      "codemirror_mode": {
        "name": "python",
        "version": 3
      },
      "file_extension": ".py",
      "mimetype": "text/x-python",
      "name": "python",
      "nbconvert_exporter": "python",
      "pygments_lexer": "ipython3",
      "version": "3.8"
    }
  },
  "nbformat_minor": 4,
  "nbformat": 4,
  "cells": [
    {
      "cell_type": "markdown",
      "source": "# Breast cancer stage detectionbreast cancer",
      "metadata": {}
    },
    {
      "cell_type": "markdown",
      "source": "## Goal:\nOur goal from this project is to create a modal that can identify breast cancer in its early stages by analyzing the measures of the cancer cells, categorizing each stage according to the diagnostic given, and comparing the measurements to begin treatment as soon as possible .",
      "metadata": {}
    },
    {
      "cell_type": "markdown",
      "source": "The source of our dataset coming from this link:\nhttps://www.kaggle.com/datasets/uciml/breast-cancer-wisconsin-data",
      "metadata": {}
    },
    {
      "cell_type": "markdown",
      "source": "## Motivations:\nWhat motivates us to choose a Breast cancer data set is the dangerous effects in the later stages that can affect the Lymphatic system and which may lead to death. We desire to distinguish between different stages of the disease as quickly as possible to save as many lives as we can.",
      "metadata": {}
    },
    {
      "cell_type": "markdown",
      "source": "## Information about dataset:\nIn our dataset, we provide a comprehensive description of attributes along with their respective types. The dataset comprises 32 columns, each representing distinct characteristics relevant to a particularzz context. For clarity, we specify the type of each attribute, ensuring a clear understanding of the data structure and facilitating efficient analysis:",
      "metadata": {}
    },
    {
      "cell_type": "markdown",
      "source": "note: \n* The descriptionis only provided for unclear or hard to understand attributes.\n* The mean, standard error and \"worst\" or largest (mean of the three\nlargest values) of the first 12 attributes were computed for each image,\nresulting the rest of 30 attributes.",
      "metadata": {}
    },
    {
      "cell_type": "markdown",
      "source": "|No|Name|Type|Description|\n|--|----|----|-----------|\n|1|ID number|Nominal and Integer|ID number that distingish diffrent sampels/data that have been taken from diffrent patiant|\n|2|Diagnosis|Nominal and Character|A class attribute that determinie the stage of the breast canser eaither M(malignant) or B(benign)|\n|3|Radius_mean|Numeric and Float|Distances from center to points on the perimeter|\n|4|Texture_mean| Numeric and Float|\n|5|Perimeter_mean|Numeric and Float|The distance around the nuclear border|\n|6|Area_mean|Numeric and Float|Size of tumor|\n|7|Smoothness_mean|Numeric and Float|\n|8|Compactness_mean|Numeric and Float|Measures the similarity between the shape of a breast tumor and its fitting circle|\n|9|Concavity_mean|Numeric and Float|\n|10|Concave points_mean|Numeric and Float|The number of indentations present on the nuclear border|\n|11|Symmetry_mean|Numeric and Float|\n|12|Fractal_dimension_mean|Numeric and Float|sed to locate the micro calcifications in the mammogram|\n|13|Radius_se|Numeric and Float|\n|14|Texture_se|Numeric and Float|\n|15|Perimeter_se|Numeric and Float|\n|16|Area_se|Numeric and Float|\n|17|Smoothness_se|Numeric and Float|\n|18|Compactness_se| Numeric and Float|\n|19|Concavity_se|Numeric and Float|\n|20|Concave points_se|Numeric and Float|\n|21|Symmetry_se|Numeric and Float|\n|22|Fractal_dimension_se|Numeric and Float|\n|23|Radius_worst|Numeric and Float|\n|24|Texture_worst|Numeric and Float|\n|25|Perimeter_worst|Numeric and Float|\n|26|Area_worst|Numeric and Float|\n|27|Smoothness_worst|Numeric and Float|\n|28|Compactness_worst|Numeric and Float|\n|29|Concavity_worst|Numeric and Float|\n|30|Concave points_worst|Numeric and Float|\n|31|Symmetry_worst|Numeric and Float|\n|32|Fractal_dimension_worst|Numeric and Float|\n\n",
      "metadata": {}
    },
    {
      "cell_type": "code",
      "source": " import pandas as pd\ndataCancer = pd.read_csv('Dataset/cancer.csv')\n#print information by code\nprint(dataCancer.info)",
      "metadata": {
        "trusted": true
      },
      "outputs": [
        {
          "name": "stdout",
          "text": "<bound method DataFrame.info of            id diagnosis  radius_mean  texture_mean  perimeter_mean  area_mean  \\\n0      842302         M        17.99         10.38          122.80     1001.0   \n1      842517         M        20.57         17.77          132.90     1326.0   \n2    84300903         M        19.69         21.25          130.00     1203.0   \n3    84348301         M        11.42         20.38           77.58      386.1   \n4    84358402         M        20.29         14.34          135.10     1297.0   \n..        ...       ...          ...           ...             ...        ...   \n564    926424         M        21.56         22.39          142.00     1479.0   \n565    926682         M        20.13         28.25          131.20     1261.0   \n566    926954         M        16.60         28.08          108.30      858.1   \n567    927241         M        20.60         29.33          140.10     1265.0   \n568     92751         B         7.76         24.54           47.92      181.0   \n\n     smoothness_mean  compactness_mean  concavity_mean  concave points_mean  \\\n0            0.11840           0.27760         0.30010              0.14710   \n1            0.08474           0.07864         0.08690              0.07017   \n2            0.10960           0.15990         0.19740              0.12790   \n3            0.14250           0.28390         0.24140              0.10520   \n4            0.10030           0.13280         0.19800              0.10430   \n..               ...               ...             ...                  ...   \n564          0.11100           0.11590         0.24390              0.13890   \n565          0.09780           0.10340         0.14400              0.09791   \n566          0.08455           0.10230         0.09251              0.05302   \n567          0.11780           0.27700         0.35140              0.15200   \n568          0.05263           0.04362         0.00000              0.00000   \n\n     ...  texture_worst  perimeter_worst  area_worst  smoothness_worst  \\\n0    ...          17.33           184.60      2019.0           0.16220   \n1    ...          23.41           158.80      1956.0           0.12380   \n2    ...          25.53           152.50      1709.0           0.14440   \n3    ...          26.50            98.87       567.7           0.20980   \n4    ...          16.67           152.20      1575.0           0.13740   \n..   ...            ...              ...         ...               ...   \n564  ...          26.40           166.10      2027.0           0.14100   \n565  ...          38.25           155.00      1731.0           0.11660   \n566  ...          34.12           126.70      1124.0           0.11390   \n567  ...          39.42           184.60      1821.0           0.16500   \n568  ...          30.37            59.16       268.6           0.08996   \n\n     compactness_worst  concavity_worst  concave points_worst  symmetry_worst  \\\n0              0.66560           0.7119                0.2654          0.4601   \n1              0.18660           0.2416                0.1860          0.2750   \n2              0.42450           0.4504                0.2430          0.3613   \n3              0.86630           0.6869                0.2575          0.6638   \n4              0.20500           0.4000                0.1625          0.2364   \n..                 ...              ...                   ...             ...   \n564            0.21130           0.4107                0.2216          0.2060   \n565            0.19220           0.3215                0.1628          0.2572   \n566            0.30940           0.3403                0.1418          0.2218   \n567            0.86810           0.9387                0.2650          0.4087   \n568            0.06444           0.0000                0.0000          0.2871   \n\n     fractal_dimension_worst  Unnamed: 32  \n0                    0.11890          NaN  \n1                    0.08902          NaN  \n2                    0.08758          NaN  \n3                    0.17300          NaN  \n4                    0.07678          NaN  \n..                       ...          ...  \n564                  0.07115          NaN  \n565                  0.06637          NaN  \n566                  0.07820          NaN  \n567                  0.12400          NaN  \n568                  0.07039          NaN  \n\n[569 rows x 33 columns]>\n",
          "output_type": "stream"
        }
      ],
      "execution_count": 7
    },
    {
      "cell_type": "markdown",
      "source": " <table style="border:1;">
  <thead>
    <tr>
      <th>No</th>
      <th>Name</th>
      <th>Type</th>
      <th>Description</th>
    </tr>
  </thead>
  <tbody>
    <tr>
      <td>1</td>
      <td>ID number</td>
      <td>Nominal and Integer</td>
      <td>ID number that distingish diffrent sampels/data that have been taken from diffrent patiant</td>
    </tr>
    <tr>
      <td>2</td>
      <td>Diagnosis</td>
      <td>Nominal and Character</td>
      <td>A class attribute that determinie the stage of the breast canser eaither M(malignant) or B(benign)</td>
    </tr>
    <tr>
      <td>3</td>
      <td>Radius_mean</td>
      <td>Numeric and Float</td>
      <td>Distances from center to points on the perimeter</td>
    </tr>
    <tr>
      <td>4</td>
      <td>Texture_mean</td>
      <td>Numeric and Float</td>
      <td></td>
    </tr>
    <tr>
      <td>5</td>
      <td>Perimeter_mean</td>
      <td>Numeric and Float</td>
      <td>The distance around the nuclear border</td>
    </tr>
    <tr>
      <td>6</td>
      <td>Area_mean</td>
      <td>Numeric and Float</td>
      <td>Size of tumor</td>
    </tr>
    <tr>
      <td>7</td>
      <td>Smoothness_mean</td>
      <td>Numeric and Float</td>
      <td></td>
    </tr>
    <tr>
      <td>8</td>
      <td>Compactness_mean</td>
      <td>Numeric and Float</td>
      <td>Measures the similarity between the shape of a breast tumor and its fitting circle</td>
    </tr>
    <tr>
      <td>9</td>
      <td>Concavity_mean</td>
      <td>Numeric and Float</td>
      <td></td>
    </tr>
    <tr>
      <td>10</td>
      <td>Concave points_mean</td>
      <td>Numeric and Float</td>
      <td>The number of indentations present on the nuclear border</td>
    </tr>
    <tr>
      <td>11</td>
      <td>Symmetry_mean</td>
      <td>Numeric and Float</td>
      <td></td>
    </tr>
    <tr>
      <td>12</td>
      <td>Fractal_dimension_mean</td>
      <td>Numeric and Float</td>
      <td>Used to locate the micro calcifications in the mammogram</td>
    </tr>
    <tr>
      <td>13</td>
      <td>Radius_se</td>
      <td>Numeric and Float</td>
      <td></td>
    </tr>
    <tr>
      <td>14</td>
      <td>Texture_se</td>
      <td>Numeric and Float</td>
      <td></td>
    </tr>
    <tr>
      <td>15</td>
      <td>Perimeter_se</td>
      <td>Numeric and Float</td>
      <td></td>
    </tr>
    <tr>
      <td>16</td>
      <td>Area_se</td>
      <td>Numeric and Float</td>
      <td></td>
    </tr>
    <tr>
      <td>17</td>
      <td>Smoothness_se</td>
      <td>Numeric and Float</td>
      <td></td>
    </tr>
    <tr>
      <td>18</td>
      <td>Compactness_se</td>
      <td>Numeric and Float</td>
      <td></td>
    </tr>
    <tr>
      <td>19</td>
      <td>Concavity_se</td>
      <td>Numeric and Float</td>
      <td></td>
    </tr>
    <tr>
      <td>20</td>
      <td>Concave points_se</td>
      <td>Numeric and Float</td>
      <td></td>
    </tr>
    <tr>
      <td>21</td>
      <td>Symmetry_se</td>
      <td>Numeric and Float</td>
      <td></td>
    </tr>
    <tr>
      <td>22</td>
      <td>Fractal_dimension_se</td>
      <td>Numeric and Float</td>
      <td></td>
    </tr>
    <tr>
      <td>23</td>
      <td>Radius_worst</td>
      <td>Numeric and Float</td>
      <td></td>
    </tr>
    <tr>
      <td>24</td>
      <td>Texture_worst</td>
      <td>Numeric and Float</td>
      <td></td>
    </tr>
    <tr>
      <td>25</td>
      <td>Perimeter_worst</td>
      <td>Numeric and Float</td>
      <td></td>
    </tr>
    <tr>
      <td>26</td>
      <td>Area_worst</td>
      <td>Numeric and Float</td>
      <td></td>
    </tr>
    <tr>
      <td>27</td>
      <td>Smoothness_worst</td>
      <td>Numeric and Float</td>
      <td></td>
    </tr>
    <tr>
      <td>28</td>
      <td>Compactness_worst</td>
      <td>Numeric and Float</td>
      <td></td>
    </tr>
    <tr>
      <td>29</td>
      <td>Concavity_worst</td>
      <td>Numeric and Float</td>
      <td></td>
    </tr>
    <tr>
      <td>30</td>
      <td>Concave points_worst</td>
      <td>Numeric and Float</td>
      <td></td>
    </tr>
    <tr>
      <td>31</td>
      <td>Symmetry_worst</td>
      <td>Numeric and Float</td>
      <td></td>
    </tr>
    <tr>
      <td>32</td>
      <td>Fractal_dimension_worst</td>
      <td>Numeric and Float</td>
      <td></td>
    </tr>
  </tbody>
</table>tr>
<tr>
<td>31</td>
<td>Symmetry_worst</td>
<td>Numeric and Float</td>
<td></td>
</tr>
<tr>
<td>32</td>
<td>Fractal_dimension_worst</td>
<td>Numeric and Float</td>
</tr>
</tbody>
</table>
></td>
</tr>
<tr>
<td>31</td>
<td>Symmetry_worst</td>
<td>Numeric and Float</td>
<td></td>
</tr>
<tr>
<td>32</td>
<td>Fractal_dimension_worst</td>
<td>Numeric and Float</td>
</tr>
</tbody>
</table>
<td>31</td>
<td>Symmetry_worst</td>
<td>Numeric and Float</td>
</tr>
<tr>
<td>32</td>
<td>Fractal_dimension_worst</td>
<td>Numeric and Float</td>
</tr>
</tbody>
</table>
"
    },
    {
      "cell_type": "code",
      "source": "",
      "metadata": {
        "trusted": true
      },
      "outputs": [],
      "execution_count": null
    }
  ]
}
