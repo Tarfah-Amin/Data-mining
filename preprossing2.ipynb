{
  "metadata": {
    "kernelspec": {
      "name": "python",
      "display_name": "Python (Pyodide)",
      "language": "python"
    },
    "language_info": {
      "codemirror_mode": {
        "name": "python",
        "version": 3
      },
      "file_extension": ".py",
      "mimetype": "text/x-python",
      "name": "python",
      "nbconvert_exporter": "python",
      "pygments_lexer": "ipython3",
      "version": "3.8"
    }
  },
  "nbformat_minor": 4,
  "nbformat": 4,
  "cells": [
    {
      "cell_type": "code",
      "source": "import pandas as pd \nfrom sklearn.preprocessing import StandardScaler",
      "metadata": {
        "trusted": true
      },
      "outputs": [],
      "execution_count": 36
    },
    {
      "cell_type": "code",
      "source": "data=pd.read_csv('cancer_preprossing.csv')\ndf=pd.DataFrame(data)",
      "metadata": {
        "trusted": true
      },
      "outputs": [],
      "execution_count": 37
    },
    {
      "cell_type": "code",
      "source": "print(df)",
      "metadata": {
        "trusted": true
      },
      "outputs": [
        {
          "name": "stdout",
          "text": "             id  diagnosis  radius_mean  texture_mean  perimeter_mean  \\\n0      842517.0          1        20.57         17.77          132.90   \n1    84300903.0          1        19.69         21.25          130.00   \n2    84358402.0          1        20.29         14.34          135.10   \n3      843786.0          1        12.45         15.70           82.57   \n4      844359.0          1        18.25         19.98          119.60   \n..          ...        ...          ...           ...             ...   \n446    924964.0          0        10.16         19.59           64.73   \n447    925277.0          0        14.59         22.68           96.39   \n448    925292.0          0        14.05         27.15           91.38   \n449    926682.0          1        20.13         28.25          131.20   \n450    926954.0          1        16.60         28.08          108.30   \n\n     area_mean  smoothness_mean  compactness_mean  concavity_mean  \\\n0       1326.0          0.08474           0.07864        0.086900   \n1       1203.0          0.10960           0.15990        0.197400   \n2       1297.0          0.10030           0.13280        0.198000   \n3        477.1          0.12780           0.17000        0.157800   \n4       1040.0          0.09463           0.10900        0.112700   \n..         ...              ...               ...             ...   \n446      311.7          0.10030           0.07504        0.005025   \n447      657.1          0.08473           0.13300        0.102900   \n448      600.4          0.09929           0.11260        0.044620   \n449     1261.0          0.09780           0.10340        0.144000   \n450      858.1          0.08455           0.10230        0.092510   \n\n     concave points_mean  ...  discretized_radius_worst  \\\n0                0.07017  ...                         2   \n1                0.12790  ...                         2   \n2                0.10430  ...                         2   \n3                0.08089  ...                         1   \n4                0.07400  ...                         2   \n..                   ...  ...                       ...   \n446              0.01116  ...                         0   \n447              0.03736  ...                         1   \n448              0.04304  ...                         1   \n449              0.09791  ...                         2   \n450              0.05302  ...                         1   \n\n     discretized_texture_worst  discretized_perimeter_worst  \\\n0                            1                            2   \n1                            1                            2   \n2                            0                            2   \n3                            1                            1   \n4                            1                            2   \n..                         ...                          ...   \n446                          1                            0   \n447                          1                            1   \n448                          2                            1   \n449                          2                            2   \n450                          2                            1   \n\n     discretized_area_worst  discretized_smoothness_worst  \\\n0                         2                             1   \n1                         2                             1   \n2                         2                             1   \n3                         0                             2   \n4                         2                             1   \n..                      ...                           ...   \n446                       0                             1   \n447                       0                             0   \n448                       0                             1   \n449                       2                             0   \n450                       1                             0   \n\n     discretized_compactness_worst  discretized_concavity_worst  \\\n0                                0                            0   \n1                                2                            1   \n2                                0                            1   \n3                                2                            2   \n4                                1                            1   \n..                             ...                          ...   \n446                              0                            0   \n447                              1                            1   \n448                              0                            0   \n449                              0                            1   \n450                              1                            1   \n\n     discretized_concave points_worst  discretized_symmetry_worst  \\\n0                                   2                           1   \n1                                   2                           2   \n2                                   1                           0   \n3                                   2                           2   \n4                                   2                           1   \n..                                ...                         ...   \n446                                 0                           0   \n447                                 1                           0   \n448                                 1                           0   \n449                                 1                           0   \n450                                 1                           0   \n\n     discretized_fractal_dimension_worst  \n0                                      1  \n1                                      1  \n2                                      0  \n3                                      2  \n4                                      1  \n..                                   ...  \n446                                    0  \n447                                    1  \n448                                    1  \n449                                    0  \n450                                    0  \n\n[451 rows x 62 columns]\n",
          "output_type": "stream"
        }
      ],
      "execution_count": 38
    },
    {
      "cell_type": "code",
      "source": "from sklearn.feature_selection import RFE\nfrom sklearn.datasets import load_iris \nfrom sklearn.linear_model import LogisticRegression",
      "metadata": {
        "trusted": true
      },
      "outputs": [],
      "execution_count": 39
    },
    {
      "cell_type": "code",
      "source": "data=load_iris()\nX=data.data\ny=data.target",
      "metadata": {
        "trusted": true
      },
      "outputs": [],
      "execution_count": 40
    },
    {
      "cell_type": "code",
      "source": "model=LogisticRegression()\nrfe=RFE(model, n_features_to_select=2)\nnew=rfe.fit_transform(X,y)",
      "metadata": {
        "trusted": true
      },
      "outputs": [
        {
          "name": "stderr",
          "text": "/lib/python3.11/site-packages/sklearn/linear_model/_logistic.py:460: ConvergenceWarning: lbfgs failed to converge (status=1):\nSTOP: TOTAL NO. of ITERATIONS REACHED LIMIT.\n\nIncrease the number of iterations (max_iter) or scale the data as shown in:\n    https://scikit-learn.org/stable/modules/preprocessing.html\nPlease also refer to the documentation for alternative solver options:\n    https://scikit-learn.org/stable/modules/linear_model.html#logistic-regression\n  n_iter_i = _check_optimize_result(\n",
          "output_type": "stream"
        }
      ],
      "execution_count": 41
    },
    {
      "cell_type": "code",
      "source": "selected_features=[i for i, mask in enumerate(rfe.support_) if mask]\nprint(\"selected features:\",selected_features)",
      "metadata": {
        "trusted": true
      },
      "outputs": [
        {
          "name": "stdout",
          "text": "selected features: [2, 3]\n",
          "output_type": "stream"
        }
      ],
      "execution_count": 42
    },
    {
      "cell_type": "code",
      "source": "#normalized data\ncoulmns_to_normalize=['radius_mean','texture_mean','perimeter_mean','area_mean','texture_worst','perimeter_worst','area_worst']\ndata_to_normalize=df[coulmns_to_normalize]",
      "metadata": {
        "trusted": true
      },
      "outputs": [],
      "execution_count": 43
    },
    {
      "cell_type": "code",
      "source": "zscore_scaler=StandardScaler()\nnormalized_data_zscore=zscore_scaler.fit_transform(data_to_normalize)",
      "metadata": {
        "trusted": true
      },
      "outputs": [],
      "execution_count": 44
    },
    {
      "cell_type": "code",
      "source": "df[coulmns_to_normalize]=normalized_data_zscore",
      "metadata": {
        "trusted": true
      },
      "outputs": [],
      "execution_count": 45
    },
    {
      "cell_type": "code",
      "source": "print(\"Z-score normalized data:\")\nprint(df)\n",
      "metadata": {
        "trusted": true
      },
      "outputs": [
        {
          "name": "stdout",
          "text": "Z-score normalized data:\n             id  diagnosis  radius_mean  texture_mean  perimeter_mean  \\\n0      842517.0          1     2.385527     -0.243112        2.249570   \n1    84300903.0          1     2.077552      0.645516        2.100705   \n2    84358402.0          1     2.287535     -1.118971        2.362502   \n3      843786.0          1    -0.456240     -0.771692       -0.334009   \n4      844359.0          1     1.573593      0.321218        1.566844   \n..          ...        ...          ...           ...             ...   \n446    924964.0          0    -1.257674      0.221630       -1.249786   \n447    925277.0          0     0.292699      1.010670        0.375410   \n448    925292.0          0     0.103714      2.152096        0.118233   \n449    926682.0          1     2.231539      2.432984        2.162304   \n450    926954.0          1     0.996141      2.389574        0.986784   \n\n     area_mean  smoothness_mean  compactness_mean  concavity_mean  \\\n0     2.702274          0.08474           0.07864        0.086900   \n1     2.238589          0.10960           0.15990        0.197400   \n2     2.592950          0.10030           0.13280        0.198000   \n3    -0.497909          0.12780           0.17000        0.157800   \n4     1.624111          0.09463           0.10900        0.112700   \n..         ...              ...               ...             ...   \n446  -1.121433          0.10030           0.07504        0.005025   \n447   0.180655          0.08473           0.13300        0.102900   \n448  -0.033092          0.09929           0.11260        0.044620   \n449   2.457237          0.09780           0.10340        0.144000   \n450   0.938385          0.08455           0.10230        0.092510   \n\n     concave points_mean  ...  discretized_radius_worst  \\\n0                0.07017  ...                         2   \n1                0.12790  ...                         2   \n2                0.10430  ...                         2   \n3                0.08089  ...                         1   \n4                0.07400  ...                         2   \n..                   ...  ...                       ...   \n446              0.01116  ...                         0   \n447              0.03736  ...                         1   \n448              0.04304  ...                         1   \n449              0.09791  ...                         2   \n450              0.05302  ...                         1   \n\n     discretized_texture_worst  discretized_perimeter_worst  \\\n0                            1                            2   \n1                            1                            2   \n2                            0                            2   \n3                            1                            1   \n4                            1                            2   \n..                         ...                          ...   \n446                          1                            0   \n447                          1                            1   \n448                          2                            1   \n449                          2                            2   \n450                          2                            1   \n\n     discretized_area_worst  discretized_smoothness_worst  \\\n0                         2                             1   \n1                         2                             1   \n2                         2                             1   \n3                         0                             2   \n4                         2                             1   \n..                      ...                           ...   \n446                       0                             1   \n447                       0                             0   \n448                       0                             1   \n449                       2                             0   \n450                       1                             0   \n\n     discretized_compactness_worst  discretized_concavity_worst  \\\n0                                0                            0   \n1                                2                            1   \n2                                0                            1   \n3                                2                            2   \n4                                1                            1   \n..                             ...                          ...   \n446                              0                            0   \n447                              1                            1   \n448                              0                            0   \n449                              0                            1   \n450                              1                            1   \n\n     discretized_concave points_worst  discretized_symmetry_worst  \\\n0                                   2                           1   \n1                                   2                           2   \n2                                   1                           0   \n3                                   2                           2   \n4                                   2                           1   \n..                                ...                         ...   \n446                                 0                           0   \n447                                 1                           0   \n448                                 1                           0   \n449                                 1                           0   \n450                                 1                           0   \n\n     discretized_fractal_dimension_worst  \n0                                      1  \n1                                      1  \n2                                      0  \n3                                      2  \n4                                      1  \n..                                   ...  \n446                                    0  \n447                                    1  \n448                                    1  \n449                                    0  \n450                                    0  \n\n[451 rows x 62 columns]\n",
          "output_type": "stream"
        }
      ],
      "execution_count": 46
    },
    {
      "cell_type": "code",
      "source": "#save the modified dataframe to new csv file \ndf.to_csv('cancer_prossing2.csv',index=False)",
      "metadata": {
        "trusted": true
      },
      "outputs": [],
      "execution_count": 49
    },
    {
      "cell_type": "code",
      "source": "",
      "metadata": {
        "trusted": true
      },
      "outputs": [],
      "execution_count": null
    }
  ]
}