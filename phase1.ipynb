{
  "cells": [
    {
      "cell_type": "markdown",
      "metadata": {},
      "source": [
        "# Breast cancer stage detectionbreast cancer"
      ]
    },
    {
      "cell_type": "markdown",
      "metadata": {},
      "source": [
        "## Goal:\n",
        "Our goal from this project is to create a modal that can identify breast cancer in its early stages by analyzing the measures of the cancer cells, categorizing each stage according to the diagnostic given, and comparing the measurements to begin treatment as soon as possible ."
      ]
    },
    {
      "cell_type": "markdown",
      "metadata": {},
      "source": [
        "The source of our dataset coming from this link:\n",
        "https://www.kaggle.com/datasets/uciml/breast-cancer-wisconsin-data"
      ]
    },
    {
      "cell_type": "markdown",
      "metadata": {},
      "source": [
        "## Motivations:\n",
        "What motivates us to choose a Breast cancer data set is the dangerous effects in the later stages that can affect the Lymphatic system and which may lead to death. We desire to distinguish between different stages of the disease as quickly as possible to save as many lives as we can."
      ]
    },
    {
      "cell_type": "markdown",
      "metadata": {},
      "source": [
        "## Information about dataset:\n",
        "In our dataset, we provide a comprehensive description of attributes along with their respective types. The dataset comprises 32 columns, each representing distinct characteristics relevant to a particularzz context. For clarity, we specify the type of each attribute, ensuring a clear understanding of the data structure and facilitating efficient analysis:"
      ]
    },
    {
      "cell_type": "markdown",
      "metadata": {},
      "source": [
        "note: \n",
        "* The descriptionis only provided for unclear or hard to understand attributes.\n",
        "* The mean, standard error and \"worst\" or largest (mean of the three\n",
        "largest values) of the first 12 attributes were computed for each image,\n",
        "resulting the rest of 30 attributes."
      ]
    },
    {
      "cell_type": "markdown",
      "metadata": {},
      "source": [
        "|No|Name|Type|Description\n",
        "|--|----|----|-----------\n",
        "|1|ID number|Nominal and Integer|ID number that distingish diffrent sampels/data that have been taken from diffrent patiant\n",
        "|2|Diagnosis|Nominal and Character|A class attribute that determinie the stage of the breast canser eaither M(malignant) or B(benign) \n",
        "|3|Radius_mean|Numeric and Float|Distances from center to points on the perimeter\n",
        "|4|Texture_mean| Numeric and Float|\n",
        "|5|Perimeter_mean|Numeric and Float|The distance around the nuclear border\n",
        "|6|Area_mean|Numeric and Float|Size of tumor\n",
        "|7|Smoothness_mean|Numeric and Float|\n",
        "|8|Compactness_mean|Numeric and Float|Measures the similarity between the shape of a breast tumor and its fitting circle\n",
        "|9|Concavity_mean|Numeric and Float|\n",
        "|10|Concave points_mean|Numeric and Float|The number of indentations present on the nuclear border\n",
        "|11|Symmetry_mean|Numeric and Float|\n",
        "|12|Fractal_dimension_mean|Numeric and Float|Used to locate the micro calcifications in the mammogram\n",
        "|13|Radius_se|Numeric and Float|\n",
        "|14|Texture_se|Numeric and Float|\n",
        "|15|Perimeter_se|Numeric and Float|\n",
        "|16|Area_se|Numeric and Float|\n",
        "|17|Smoothness_se|Numeric and Float|\n",
        "|18|Compactness_se| Numeric and Float|\n",
        "|19|Concavity_se|Numeric and Float|\n",
        "|20|Concave points_se|Numeric and Float|\n",
        "|21|Symmetry_se|Numeric and Float|\n",
        "|22|Fractal_dimension_se|Numeric and Float|\n",
        "|23|Radius_worst|Numeric and Float|\n",
        "|24|Texture_worst|Numeric and Float|\n",
        "|25|Perimeter_worst|Numeric and Float|\n",
        "|26|Area_worst|Numeric and Float|\n",
        "|27|Smoothness_worst|Numeric and Float|\n",
        "|28|Compactness_worst|Numeric and Float|\n",
        "|29|Concavity_worst|Numeric and Float|\n",
        "|30|Concave points_worst|Numeric and Float|\n",
        "|31|Symmetry_worst|Numeric and Float|\n",
        "|32|Fractal_dimension_worst|Numeric and Float|\n",
        "\n"
      ]
    }
