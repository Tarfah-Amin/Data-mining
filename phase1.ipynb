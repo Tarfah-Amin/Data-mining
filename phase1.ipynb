{
  "metadata": {
    "kernelspec": {
      "name": "python",
      "display_name": "Python (Pyodide)",
      "language": "python"
    },
    "language_info": {
      "codemirror_mode": {
        "name": "python",
        "version": 3
      },
      "file_extension": ".py",
      "mimetype": "text/x-python",
      "name": "python",
      "nbconvert_exporter": "python",
      "pygments_lexer": "ipython3",
      "version": "3.8"
    }
  },
  "nbformat_minor": 4,
  "nbformat": 4,
  "cells": [
    {
      "cell_type": "code",
      "source": "import pandas as pd\ndataCancer = pd.read_csv('cancer.csv')",
      "metadata": {
        "trusted": true
      },
      "outputs": [],
      "execution_count": 1
    },
    {
      "cell_type": "code",
      "source": "\"\"\"The goal of collecting this dataset is : Our project focuses heavily on saving individuals from breast cancer.\nBy accessing accurate information and understanding it, we aim to provide detection of the breast cancer stage\nby detecting it at an early stage through cell nucleus measurement and understanding. \"\"\"",
      "metadata": {
        "trusted": true
      },
      "outputs": [
        {
          "execution_count": 2,
          "output_type": "execute_result",
          "data": {
            "text/plain": "'The goal of collecting this dataset is : Our project focuses heavily on saving individuals from breast cancer.\\nBy accessing accurate information and understanding it, we aim to provide detection of the breast cancer stage\\nby detecting it at an early stage through cell nucleus measurement and understanding. '"
          },
          "metadata": {}
        }
      ],
      "execution_count": 2
    },
    {
      "cell_type": "code",
      "source": "\"\"\" The source of our dataset coming from this link:\nhttps://www.kaggle.com/datasets/uciml/breast-cancer-wisconsin-data\"\"\"",
      "metadata": {
        "trusted": true
      },
      "outputs": [],
      "execution_count": null
    },
    {
      "cell_type": "code",
      "source": "\"\"\" Our dataset consists of general information, including 33 features.\nAdditionally, it includes objects totaling 569. The class in our dataset is specifically called \"diagnosis\"\nwhich has two types representing the state of the disease: \"M\" (malignant) and \"B\" (benign).\"\"\"",
      "metadata": {
        "trusted": true
      },
      "outputs": [],
      "execution_count": null
    }
  ]
}