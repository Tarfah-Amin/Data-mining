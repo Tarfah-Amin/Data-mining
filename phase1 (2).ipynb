{
  "metadata": {
    "kernelspec": {
      "name": "python",
      "display_name": "Python (Pyodide)",
      "language": "python"
    },
    "language_info": {
      "codemirror_mode": {
        "name": "python",
        "version": 3
      },
      "file_extension": ".py",
      "mimetype": "text/x-python",
      "name": "python",
      "nbconvert_exporter": "python",
      "pygments_lexer": "ipython3",
      "version": "3.8"
    }
  },
  "nbformat_minor": 4,
  "nbformat": 4,
  "cells": [
    {
      "cell_type": "markdown",
      "source": "# Breast cancer stage detectionbreast cancer",
      "metadata": {}
    },
    {
      "cell_type": "markdown",
      "source": "## Goal:\nOur goal from this project is to create a modal that can identify breast cancer in its early stages by analyzing the measures of the cancer cells, categorizing each stage according to the diagnostic given, and comparing the measurements to begin treatment as soon as possible .",
      "metadata": {}
    },
    {
      "cell_type": "markdown",
      "source": "The source of our dataset coming from this link:\nhttps://www.kaggle.com/datasets/uciml/breast-cancer-wisconsin-data",
      "metadata": {}
    },
    {
      "cell_type": "markdown",
      "source": "## Motivations:\nWhat motivates us to choose a Breast cancer data set is the dangerous effects in the later stages that can affect the Lymphatic system and which may lead to death. We desire to distinguish between different stages of the disease as quickly as possible to save as many lives as we can.",
      "metadata": {}
    },
    {
      "cell_type": "markdown",
      "source": "## Information about dataset:\nIn our dataset, we provide a comprehensive description of attributes along with their respective types. The dataset comprises 32 columns, each representing distinct characteristics relevant to a particularzz context. For clarity, we specify the type of each attribute, ensuring a clear understanding of the data structure and facilitating efficient analysis:",
      "metadata": {}
    },
    {
      "cell_type": "markdown",
      "source": "note: \n* The descriptionis only provided for unclear or hard to understand attributes.\n* The mean, standard error and \"worst\" or largest (mean of the three\nlargest values) of the first 12 attributes were computed for each image,\nresulting the rest of 30 attributes.",
      "metadata": {}
    },
    {
      "cell_type": "markdown",
      "source": "|No|Name|Type|Description|\n|--|----|----|-----------|\n|1|ID number|Nominal and Integer|ID number that distingish diffrent sampels/data that have been taken from diffrent patiant|\n|2|Diagnosis|Nominal and Character|A class attribute that determinie the stage of the breast canser eaither M(malignant) or B(benign)|\n|3|Radius_mean|Numeric and Float|Distances from center to points on the perimeter|\n|4|Texture_mean| Numeric and Float|\n|5|Perimeter_mean|Numeric and Float|The distance around the nuclear border\n|6|Area_mean|Numeric and Float|Size of tumor\n|7|Smoothness_mean|Numeric and Float|\n|8|Compactness_mean|Numeric and Float|Measures the similarity between the shape of a breast tumor and its fitting circle\n|9|Concavity_mean|Numeric and Float|\n|10|Concave points_mean|Numeric and Float|The number of indentations present on the nuclear border\n|11|Symmetry_mean|Numeric and Float|\n|12|Fractal_dimension_mean|Numeric and Float|sed to locate the micro calcifications in the mammogram\n|13|Radius_se|Numeric and Float|\n|14|Texture_se|Numeric and Float|\n|15|Perimeter_se|Numeric and Float|\n|16|Area_se|Numeric and Float|\n|17|Smoothness_se|Numeric and Float|\n|18|Compactness_se| Numeric and Float|\n|19|Concavity_se|Numeric and Float|\n|20|Concave points_se|Numeric and Float|\n|21|Symmetry_se|Numeric and Float|\n|22|Fractal_dimension_se|Numeric and Float|\n|23|Radius_worst|Numeric and Float|\n|24|Texture_worst|Numeric and Float|\n|25|Perimeter_worst|Numeric and Float|\n|26|Area_worst|Numeric and Float|\n|27|Smoothness_worst|Numeric and Float|\n|28|Compactness_worst|Numeric and Float|\n|29|Concavity_worst|Numeric and Float|\n|30|Concave points_worst|Numeric and Float|\n|31|Symmetry_worst|Numeric and Float|\n|32|Fractal_dimension_worst|Numeric and Float|\n\n",
      "metadata": {}
    }
  ]
}