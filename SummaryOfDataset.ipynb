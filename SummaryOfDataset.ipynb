{
  "cells": [
    {
      "cell_type": "markdown",
      "metadata": {},
      "source": [
        "# Summary of the data set:"
      ]
    },
    {
      "cell_type": "markdown",
      "metadata": {},
      "source": [
        "In this section we are going to display a quick summary of the data including sample of row data, some graphs and tables and statistics summaries.\n",
        "First we have to import the data, so we can work with it and display its content correctly."
      ]
    },
    {
      "cell_type": "code",
      "execution_count": null,
      "metadata": {
        "trusted": true
      },
      "outputs": [],
      "source": [
        "import pandas as pd\n",
        "dataCancer = pd.read_csv('cancer_preprossing.csv')"
      ]
    },
    {
      "cell_type": "markdown",
      "metadata": {},
      "source": [
        "### Sample of data:"
      ]
    },
    {
      "cell_type": "markdown",
      "metadata": {},
      "source": [
        "First we going to display the first 5 row as a sample of the preprocessed data using the following code:"
      ]
    },
    {
      "cell_type": "code",
      "execution_count": null,
      "metadata": {
        "scrolled": true,
        "trusted": true
      },
      "outputs": [],
      "source": [
        "from IPython.display import display, HTML  # Import the HTML class so we can display the table\n",
        "#print sample of 1st 5  \n",
        "print('The first 5 rows of the raw data:')\n",
        "data_sample = dataCancer.head(5)\n",
        "# Generate HTML code from the sample\n",
        "sample_table = data_sample.to_html(index=False)\n",
        "# Display the HTML table in the notebook\n",
        "display(HTML(sample_table))"
      ]
    },
    {
      "cell_type": "markdown",
      "metadata": {},
      "source": [
        "## Data Visualization"
      ]
    },
    {
      "cell_type": "markdown",
      "metadata": {},
      "source": [
        "Displaying the data in a graphic format can help to analyze the data and reporting it. We used several charts as following:"
      ]
    },
    {
      "cell_type": "markdown",
      "metadata": {},
      "source": [
        "We use the pie chart to show the percentage of different diagnosis in our data which turn out to be 62.7% benign and 37.3% malignant."
      ]
    },
    {
      "cell_type": "code",
      "execution_count": null,
      "metadata": {
        "trusted": true
      },
      "outputs": [],
      "source": [
        "# graphs and tables show variable distribution , missing values\n",
        "import matplotlib.pyplot as plt\n",
        "\n",
        "#calculate the frequancy for each diagnosis\n",
        "diagnosis_frequency = dataCancer['diagnosis'].value_counts(normalize=True)*100\n",
        "\n",
        "#plot a ppie chart\n",
        "diagnosis_frequency.plot.pie(autopct='%1.1f%%',figsize=(5,5),startangle=90)\n",
        "\n",
        "#display the plot with appropriate apperance by changing the values of the attribute\n",
        "plt.title('Diagnosis frequency')\n",
        "plt.ylabel('')\n",
        "plt.show()"
      ]
    },
    {
      "cell_type": "markdown",
      "metadata": {},
      "source": [
        "Also, we use the plot box to show variable distribution for each attribute and comparing the values across different diagnosis."
      ]
    },
    {
      "cell_type": "code",
      "execution_count": null,
      "metadata": {
        "scrolled": true,
        "trusted": true
      },
      "outputs": [],
      "source": [
        "#this is to solve the problem of \"ModuleNotFoundError: No module named ‘seabor’\"\n",
        "%pip install seaborn \n",
        "import seaborn as sns\n",
        "\n",
        "\n",
        "target_column = 'diagnosis'\n",
        "\n",
        "# choosing the numiric data only\n",
        "feature_columns = dataCancer.columns[(dataCancer.columns != target_column) & (dataCancer.columns != 'id')]\n",
        "\n",
        "\n",
        "# Determine the number of rows and columns for the subplot layout\n",
        "num_features = len(feature_columns)\n",
        "num_rows = (num_features - 1) // 4 + 1\n",
        "num_cols = min(4, num_features)\n",
        "\n",
        "# Create box plots for each feature grouped by 'diagnosis'\n",
        "plt.figure(figsize=(16, 4 * num_rows))\n",
        "\n",
        "for i, feature in enumerate(feature_columns):\n",
        "    plt.subplot(num_rows, num_cols, i + 1)\n",
        "    sns.boxplot(x=target_column, y=feature, data=dataCancer)\n",
        "    plt.title(f'Box Plot: {feature} vs. {target_column}')\n",
        "    plt.xlabel(target_column)\n",
        "    plt.ylabel(feature)\n",
        "\n",
        "plt.tight_layout()\n",
        "plt.show()"
      ]
    },
    {
      "cell_type": "markdown",
      "metadata": {},
      "source": [
        "Majority of our data is a numeric data and one of the best ways to visualize it is using the matrix of scatter plots(pair plot) in order to have a clear vision of the relationship between the data."
      ]
    },
    {
      "cell_type": "code",
      "execution_count": null,
      "metadata": {
        "trusted": true
      },
      "outputs": [],
      "source": [
        "#exclude the id attribute\n",
        "selected_feature = dataCancer.iloc[:, 1:]\n",
        "\n",
        "# Create a matrix of scatter plots\n",
        "sns.pairplot(selected_feature, hue='diagnosis', palette = 'Set2')\n",
        "\n",
        "\n",
        "plt.suptitle('Pair Plot of Breast Cancer Dataset', y=1.02)\n",
        "plt.show()\n"
      ]
    },
    {
      "cell_type": "markdown",
      "metadata": {},
      "source": [
        "## Summary Statistics"
      ]
    },
    {
      "cell_type": "markdown",
      "metadata": {},
      "source": [
        "It's important to take a look at the statistic summary to capture the different characteristics of our data set, such as the central tendency measurement and the variance. The table below shows these measurements that have been calculated by the python code above it."
      ]
    },
    {
      "cell_type": "code",
      "execution_count": null,
      "metadata": {
        "jp-MarkdownHeadingCollapsed": true,
        "trusted": true
      },
      "outputs": [],
      "source": [
        "import statistics as st\n",
        "\n",
        "summary_data = []\n",
        "\n",
        "for columnName in feature_columns:\n",
        "    columnData = dataCancer[columnName]\n",
        "    midrange = (max(columnData) + min(columnData)) / 2\n",
        "    summary_data.append({\n",
        "        'Feature': columnName,\n",
        "        'Mean': st.mean(columnData),\n",
        "        'Median': st.median(columnData),\n",
        "        'Mode': st.mode(columnData),\n",
        "        'Midrange': midrange,\n",
        "        'Variance': st.variance(columnData)\n",
        "    })\n",
        "\n",
        "# Create the DataFrame after the loop\n",
        "statistical_summaries = pd.DataFrame(summary_data)\n",
        "\n",
        "# Generate HTML code from the DataFrame\n",
        "statistical_summaries_table = statistical_summaries.to_html(index=False)\n",
        "# Display the HTML table in the notebook\n",
        "display(HTML(statistical_summaries_table))"
      ]
    }
  ],
  "metadata": {
    "kernelspec": {
      "display_name": "Python 3",
      "language": "python",
      "name": "python3"
    },
    "language_info": {
      "codemirror_mode": {
        "name": "ipython",
        "version": 3
      },
      "file_extension": ".py",
      "mimetype": "text/x-python",
      "name": "python",
      "nbconvert_exporter": "python",
      "pygments_lexer": "ipython3",
      "version": "3.11.4"
    }
  },
  "nbformat": 4,
  "nbformat_minor": 4
}
