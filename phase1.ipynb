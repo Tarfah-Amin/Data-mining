{
  "metadata": {
    "kernelspec": {
      "name": "python",
      "display_name": "Python (Pyodide)",
      "language": "python"
    },
    "language_info": {
      "codemirror_mode": {
        "name": "python",
        "version": 3
      },
      "file_extension": ".py",
      "mimetype": "text/x-python",
      "name": "python",
      "nbconvert_exporter": "python",
      "pygments_lexer": "ipython3",
      "version": "3.8"
    }
  },
  "nbformat_minor": 4,
  "nbformat": 4,
  "cells": [
    {
      "cell_type": "markdown",
      "source": "# Breast cancer stage detection",
      "metadata": {}
    },
    {
      "cell_type": "markdown",
      "source": "## Goal:\nOur goal from this project is to create a modal that can identify breast cancer in its early stages by analyzing the measures of the cancer cells, categorizing each stage according to the diagnostic given, and comparing the measurements to begin treatment as soon as possible. Which will be done through trainting the modal (clasification) to predict wheather the category is Malignant or Benign.",
      "metadata": {}
    },
    {
      "cell_type": "markdown",
      "source": "## Motivations:\nWhat motivates us to choose a Breast cancer data set is the dangerous effects in the later stages that can affect the Lymphatic system and which may lead to death. We desire to distinguish between different stages of the disease as quickly as possible to save as many lives as we can.",
      "metadata": {}
    },
    {
      "cell_type": "markdown",
      "source": "### Dataset source",
      "metadata": {}
    },
    {
      "cell_type": "markdown",
      "source": "The source of our dataset coming from this link:\nhttps://www.kaggle.com/datasets/uciml/breast-cancer-wisconsin-data",
      "metadata": {}
    },
    {
      "cell_type": "markdown",
      "source": "## Information about dataset:\nIn our dataset, we provide a comprehensive description of attributes along with their respective types. The dataset comprises 32 columns, each representing distinct characteristics relevant to a particularzz context. For clarity, we specify the type of each attribute, ensuring a clear understanding of the data structure and facilitating efficient analysis:",
      "metadata": {}
    },
    {
      "cell_type": "markdown",
      "source": "note: \n* The descriptionis only provided for unclear or hard to understand attributes.\n* The mean, standard error and \"worst\" or largest (mean of the three\nlargest values) of the first 12 attributes were computed for each image,\nresulting the rest of 30 attributes.",
      "metadata": {}
    },
    {
      "cell_type": "markdown",
      "source": "%%html\n<table style=\"border:1;\">\r\n  <thead>\r\n    <tr>\r\n      <th>No</th>\r\n      <th>Name</th>\r\n      <th>Type</th>\r\n      <th>Description</th>\r\n    </tr>\r\n  </thead>\r\n  <tbody>\r\n    <tr>\r\n      <td>1</td>\r\n      <td>ID number</td>\r\n      <td>Nominal and Integer</td>\r\n      <td>ID number that distinguishes different samples/data that have been taken from different patients</td>\r\n    </tr>\r\n    <tr>\r\n      <td>2</td>\r\n      <td>Diagnosis</td>\r\n      <td>Nominal and Character</td>\r\n      <td>A class attribute that determinie the stage of the breast canser eaither M(malignant) or B(benign)</td>\r\n    </tr>\r\n    <tr>\r\n      <td>3</td>\r\n      <td>Radius_mean</td>\r\n      <td>Numeric and Float</td>\r\n      <td>Distances from center to points on the perimeter</td>\r\n    </tr>\r\n    <tr>\r\n      <td>4</td>\r\n      <td>Texture_mean</td>\r\n      <td>Numeric and Float</td>\r\n      <td></td>\r\n    </tr>\r\n    <tr>\r\n      <td>5</td>\r\n      <td>Perimeter_mean</td>\r\n      <td>Numeric and Float</td>\r\n      <td>The distance around the nuclear border</td>\r\n    </tr>\r\n    <tr>\r\n      <td>6</td>\r\n      <td>Area_mean</td>\r\n      <td>Numeric and Float</td>\r\n      <td>Size of tumor</td>\r\n    </tr>\r\n    <tr>\r\n      <td>7</td>\r\n      <td>Smoothness_mean</td>\r\n      <td>Numeric and Float</td>\r\n      <td></td>\r\n    </tr>\r\n    <tr>\r\n      <td>8</td>\r\n      <td>Compactness_mean</td>\r\n      <td>Numeric and Float</td>\r\n      <td>Measures the similarity between the shape of a breast tumor and its fitting circle</td>\r\n    </tr>\r\n    <tr>\r\n      <td>9</td>\r\n      <td>Concavity_mean</td>\r\n      <td>Numeric and Float</td>\r\n      <td></td>\r\n    </tr>\r\n    <tr>\r\n      <td>10</td>\r\n      <td>Concave points_mean</td>\r\n      <td>Numeric and Float</td>\r\n      <td>The number of indentations present on the nuclear border</td>\r\n    </tr>\r\n    <tr>\r\n      <td>11</td>\r\n      <td>Symmetry_mean</td>\r\n      <td>Numeric and Float</td>\r\n      <td></td>\r\n    </tr>\r\n    <tr>\r\n      <td>12</td>\r\n      <td>Fractal_dimension_mean</td>\r\n      <td>Numeric and Float</td>\r\n      <td>Used to locate the micro calcifications in the mammogram</td>\r\n    </tr>\r\n    <tr>\r\n      <td>13</td>\r\n      <td>Radius_se</td>\r\n      <td>Numeric and Float</td>\r\n      <td></td>\r\n    </tr>\r\n    <tr>\r\n      <td>14</td>\r\n      <td>Texture_se</td>\r\n      <td>Numeric and Float</td>\r\n      <td></td>\r\n    </tr>\r\n    <tr>\r\n      <td>15</td>\r\n      <td>Perimeter_se</td>\r\n      <td>Numeric and Float</td>\r\n      <td></td>\r\n    </tr>\r\n    <tr>\r\n      <td>16</td>\r\n      <td>Area_se</td>\r\n      <td>Numeric and Float</td>\r\n      <td></td>\r\n    </tr>\r\n    <tr>\r\n      <td>17</td>\r\n      <td>Smoothness_se</td>\r\n      <td>Numeric and Float</td>\r\n      <td></td>\r\n    </tr>\r\n    <tr>\r\n      <td>18</td>\r\n      <td>Compactness_se</td>\r\n      <td>Numeric and Float</td>\r\n      <td></td>\r\n    </tr>\r\n    <tr>\r\n      <td>19</td>\r\n      <td>Concavity_se</td>\r\n      <td>Numeric and Float</td>\r\n      <td></td>\r\n    </tr>\r\n    <tr>\r\n      <td>20</td>\r\n      <td>Concave points_se</td>\r\n      <td>Numeric and Float</td>\r\n      <td></td>\r\n    </tr>\r\n    <tr>\r\n      <td>21</td>\r\n      <td>Symmetry_se</td>\r\n      <td>Numeric and Float</td>\r\n      <td></td>\r\n    </tr>\r\n    <tr>\r\n      <td>22</td>\r\n      <td>Fractal_dimension_se</td>\r\n      <td>Numeric and Float</td>\r\n      <td></td>\r\n    </tr>\r\n    <tr>\r\n      <td>23</td>\r\n      <td>Radius_worst</td>\r\n      <td>Numeric and Float</td>\r\n      <td></td>\r\n    </tr>\r\n    <tr>\r\n      <td>24</td>\r\n      <td>Texture_worst</td>\r\n      <td>Numeric and Float</td>\r\n      <td></td>\r\n    </tr>\r\n    <tr>\r\n      <td>25</td>\r\n      <td>Perimeter_worst</td>\r\n      <td>Numeric and Float</td>\r\n      <td></td>\r\n    </tr>\r\n    <tr>\r\n      <td>26</td>\r\n      <td>Area_worst</td>\r\n      <td>Numeric and Float</td>\r\n      <td></td>\r\n    </tr>\r\n    <tr>\r\n      <td>27</td>\r\n      <td>Smoothness_worst</td>\r\n      <td>Numeric and Float</td>\r\n      <td></td>\r\n    </tr>\r\n    <tr>\r\n      <td>28</td>\r\n      <td>Compactness_worst</td>\r\n      <td>Numeric and Float</td>\r\n      <td></td>\r\n    </tr>\r\n    <tr>\r\n      <td>29</td>\r\n      <td>Concavity_worst</td>\r\n      <td>Numeric and Float</td>\r\n      <td></td>\r\n    </tr>\r\n    <tr>\r\n      <td>30</td>\r\n      <td>Concave points_worst</td>\r\n      <td>Numeric and Float</td>\r\n      <td></td>\r\n    </tr>\r\n    <tr>\r\n      <td>31</td>\r\n      <td>Symmetry_worst</td>\r\n      <td>Numeric and Float</td>\r\n      <td></td>\r\n    </tr>\r\n    <tr>\r\n      <td>32</td>\r\n      <td>Fractal_dimension_worst</td>\r\n      <td>Numeric and Float</td>\r\n      <td></td>\r\n    </tr>\r\n  </tbody>\r\n</table>\r\n",
      "metadata": {}
    },
    {
      "cell_type": "code",
      "source": " import pandas as pd\ndataCancer = pd.read_csv('Dataset/cancer.csv')\n\n#print sample of 1st 5 row\nprint('The first 5 rows of the data:')\nprint(dataCancer.head(5))\n\n#print information by code\nprint('Information about dataset:')\nprint(dataCancer.info)",
      "metadata": {
        "trusted": true
      },
      "outputs": [
        {
          "name": "stdout",
          "text": "The first 5 rows of the data:\n         id diagnosis  radius_mean  texture_mean  perimeter_mean  area_mean  \\\n0    842302         M        17.99         10.38          122.80     1001.0   \n1    842517         M        20.57         17.77          132.90     1326.0   \n2  84300903         M        19.69         21.25          130.00     1203.0   \n3  84348301         M        11.42         20.38           77.58      386.1   \n4  84358402         M        20.29         14.34          135.10     1297.0   \n\n   smoothness_mean  compactness_mean  concavity_mean  concave points_mean  \\\n0          0.11840           0.27760          0.3001              0.14710   \n1          0.08474           0.07864          0.0869              0.07017   \n2          0.10960           0.15990          0.1974              0.12790   \n3          0.14250           0.28390          0.2414              0.10520   \n4          0.10030           0.13280          0.1980              0.10430   \n\n   ...  radius_worst  texture_worst  perimeter_worst  area_worst  \\\n0  ...         25.38          17.33           184.60      2019.0   \n1  ...         24.99          23.41           158.80      1956.0   \n2  ...         23.57          25.53           152.50      1709.0   \n3  ...         14.91          26.50            98.87       567.7   \n4  ...         22.54          16.67           152.20      1575.0   \n\n   smoothness_worst  compactness_worst  concavity_worst  concave points_worst  \\\n0            0.1622             0.6656           0.7119                0.2654   \n1            0.1238             0.1866           0.2416                0.1860   \n2            0.1444             0.4245           0.4504                0.2430   \n3            0.2098             0.8663           0.6869                0.2575   \n4            0.1374             0.2050           0.4000                0.1625   \n\n   symmetry_worst  fractal_dimension_worst  \n0          0.4601                  0.11890  \n1          0.2750                  0.08902  \n2          0.3613                  0.08758  \n3          0.6638                  0.17300  \n4          0.2364                  0.07678  \n\n[5 rows x 32 columns]\nInformation about dataset:\n<bound method DataFrame.info of            id diagnosis  radius_mean  texture_mean  perimeter_mean  area_mean  \\\n0      842302         M        17.99         10.38          122.80     1001.0   \n1      842517         M        20.57         17.77          132.90     1326.0   \n2    84300903         M        19.69         21.25          130.00     1203.0   \n3    84348301         M        11.42         20.38           77.58      386.1   \n4    84358402         M        20.29         14.34          135.10     1297.0   \n..        ...       ...          ...           ...             ...        ...   \n564    926424         M        21.56         22.39          142.00     1479.0   \n565    926682         M        20.13         28.25          131.20     1261.0   \n566    926954         M        16.60         28.08          108.30      858.1   \n567    927241         M        20.60         29.33          140.10     1265.0   \n568     92751         B         7.76         24.54           47.92      181.0   \n\n     smoothness_mean  compactness_mean  concavity_mean  concave points_mean  \\\n0            0.11840           0.27760         0.30010              0.14710   \n1            0.08474           0.07864         0.08690              0.07017   \n2            0.10960           0.15990         0.19740              0.12790   \n3            0.14250           0.28390         0.24140              0.10520   \n4            0.10030           0.13280         0.19800              0.10430   \n..               ...               ...             ...                  ...   \n564          0.11100           0.11590         0.24390              0.13890   \n565          0.09780           0.10340         0.14400              0.09791   \n566          0.08455           0.10230         0.09251              0.05302   \n567          0.11780           0.27700         0.35140              0.15200   \n568          0.05263           0.04362         0.00000              0.00000   \n\n     ...  radius_worst  texture_worst  perimeter_worst  area_worst  \\\n0    ...        25.380          17.33           184.60      2019.0   \n1    ...        24.990          23.41           158.80      1956.0   \n2    ...        23.570          25.53           152.50      1709.0   \n3    ...        14.910          26.50            98.87       567.7   \n4    ...        22.540          16.67           152.20      1575.0   \n..   ...           ...            ...              ...         ...   \n564  ...        25.450          26.40           166.10      2027.0   \n565  ...        23.690          38.25           155.00      1731.0   \n566  ...        18.980          34.12           126.70      1124.0   \n567  ...        25.740          39.42           184.60      1821.0   \n568  ...         9.456          30.37            59.16       268.6   \n\n     smoothness_worst  compactness_worst  concavity_worst  \\\n0             0.16220            0.66560           0.7119   \n1             0.12380            0.18660           0.2416   \n2             0.14440            0.42450           0.4504   \n3             0.20980            0.86630           0.6869   \n4             0.13740            0.20500           0.4000   \n..                ...                ...              ...   \n564           0.14100            0.21130           0.4107   \n565           0.11660            0.19220           0.3215   \n566           0.11390            0.30940           0.3403   \n567           0.16500            0.86810           0.9387   \n568           0.08996            0.06444           0.0000   \n\n     concave points_worst  symmetry_worst  fractal_dimension_worst  \n0                  0.2654          0.4601                  0.11890  \n1                  0.1860          0.2750                  0.08902  \n2                  0.2430          0.3613                  0.08758  \n3                  0.2575          0.6638                  0.17300  \n4                  0.1625          0.2364                  0.07678  \n..                    ...             ...                      ...  \n564                0.2216          0.2060                  0.07115  \n565                0.1628          0.2572                  0.06637  \n566                0.1418          0.2218                  0.07820  \n567                0.2650          0.4087                  0.12400  \n568                0.0000          0.2871                  0.07039  \n\n[569 rows x 32 columns]>\n",
          "output_type": "stream"
        }
      ],
      "execution_count": 1
    },
    {
      "cell_type": "code",
      "source": "",
      "metadata": {
        "trusted": true
      },
      "outputs": [],
      "execution_count": null
    }
  ]
}
